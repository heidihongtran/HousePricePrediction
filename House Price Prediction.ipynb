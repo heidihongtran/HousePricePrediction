{
 "cells": [
  {
   "cell_type": "markdown",
   "id": "2c4f5a73",
   "metadata": {},
   "source": [
    "## Import required packages"
   ]
  },
  {
   "cell_type": "code",
   "execution_count": 20,
   "id": "be23fe47",
   "metadata": {},
   "outputs": [],
   "source": [
    "#Regular EDA (exploratory data analysis) and plotting libraries\n",
    "import math\n",
    "import pandas as pd\n",
    "import seaborn as sns\n",
    "import matplotlib.pylab as plt\n",
    "\n",
    "\n",
    "#Package for splitting the dataset to training set and test set\n",
    "from sklearn.model_selection import train_test_split, cross_val_predict\n",
    "\n",
    "#Package for Linear Regression model\n",
    "from sklearn.linear_model import LinearRegression\n",
    "\n",
    "#Packages to perform Exhaustive Search\n",
    "from dmba import regressionSummary, exhaustive_search\n",
    "from dmba import adjusted_r2_score, AIC_score, BIC_score\n",
    "\n",
    "#Package for KNN Regressor model\n",
    "from sklearn.neighbors import NearestNeighbors, KNeighborsRegressor\n",
    "\n",
    "#Package for data standardization\n",
    "from sklearn.preprocessing import StandardScaler\n",
    "\n",
    "#Package for model evaluation\n",
    "from dmba import regressionSummary, classificationSummary\n",
    "from sklearn.metrics import r2_score, mean_squared_error\n",
    "from sklearn.metrics import accuracy_score"
   ]
  },
  {
   "cell_type": "markdown",
   "id": "eff51b9c",
   "metadata": {},
   "source": [
    "## Importing housing dataset"
   ]
  },
  {
   "cell_type": "code",
   "execution_count": 21,
   "id": "72fc1a7d",
   "metadata": {},
   "outputs": [],
   "source": [
    "#Importing housing dataset\n",
    "housing_df = pd.read_csv('HousingDataSet.csv')"
   ]
  },
  {
   "cell_type": "markdown",
   "id": "82a2b8e6",
   "metadata": {},
   "source": [
    "## Data preprocessing"
   ]
  },
  {
   "cell_type": "code",
   "execution_count": 22,
   "id": "e4b44dfe",
   "metadata": {},
   "outputs": [
    {
     "data": {
      "text/html": [
       "<div>\n",
       "<style scoped>\n",
       "    .dataframe tbody tr th:only-of-type {\n",
       "        vertical-align: middle;\n",
       "    }\n",
       "\n",
       "    .dataframe tbody tr th {\n",
       "        vertical-align: top;\n",
       "    }\n",
       "\n",
       "    .dataframe thead th {\n",
       "        text-align: right;\n",
       "    }\n",
       "</style>\n",
       "<table border=\"1\" class=\"dataframe\">\n",
       "  <thead>\n",
       "    <tr style=\"text-align: right;\">\n",
       "      <th></th>\n",
       "      <th>id</th>\n",
       "      <th>date</th>\n",
       "      <th>price</th>\n",
       "      <th>bedrooms</th>\n",
       "      <th>bathrooms</th>\n",
       "      <th>sqft_living</th>\n",
       "      <th>sqft_lot</th>\n",
       "      <th>floors</th>\n",
       "      <th>waterfront</th>\n",
       "      <th>view</th>\n",
       "      <th>...</th>\n",
       "      <th>grade</th>\n",
       "      <th>sqft_above</th>\n",
       "      <th>sqft_basement</th>\n",
       "      <th>yr_built</th>\n",
       "      <th>yr_renovated</th>\n",
       "      <th>zipcode</th>\n",
       "      <th>lat</th>\n",
       "      <th>long</th>\n",
       "      <th>sqft_living15</th>\n",
       "      <th>sqft_lot15</th>\n",
       "    </tr>\n",
       "  </thead>\n",
       "  <tbody>\n",
       "    <tr>\n",
       "      <th>0</th>\n",
       "      <td>7129300520</td>\n",
       "      <td>20141013T000000</td>\n",
       "      <td>221900.0</td>\n",
       "      <td>3</td>\n",
       "      <td>1.00</td>\n",
       "      <td>1180</td>\n",
       "      <td>5650</td>\n",
       "      <td>1.0</td>\n",
       "      <td>0</td>\n",
       "      <td>0</td>\n",
       "      <td>...</td>\n",
       "      <td>7</td>\n",
       "      <td>1180</td>\n",
       "      <td>0</td>\n",
       "      <td>1955</td>\n",
       "      <td>0</td>\n",
       "      <td>98178</td>\n",
       "      <td>47.5112</td>\n",
       "      <td>-122.257</td>\n",
       "      <td>1340</td>\n",
       "      <td>5650</td>\n",
       "    </tr>\n",
       "    <tr>\n",
       "      <th>1</th>\n",
       "      <td>6414100192</td>\n",
       "      <td>20141209T000000</td>\n",
       "      <td>538000.0</td>\n",
       "      <td>3</td>\n",
       "      <td>2.25</td>\n",
       "      <td>2570</td>\n",
       "      <td>7242</td>\n",
       "      <td>2.0</td>\n",
       "      <td>0</td>\n",
       "      <td>0</td>\n",
       "      <td>...</td>\n",
       "      <td>7</td>\n",
       "      <td>2170</td>\n",
       "      <td>400</td>\n",
       "      <td>1951</td>\n",
       "      <td>1991</td>\n",
       "      <td>98125</td>\n",
       "      <td>47.7210</td>\n",
       "      <td>-122.319</td>\n",
       "      <td>1690</td>\n",
       "      <td>7639</td>\n",
       "    </tr>\n",
       "    <tr>\n",
       "      <th>2</th>\n",
       "      <td>5631500400</td>\n",
       "      <td>20150225T000000</td>\n",
       "      <td>180000.0</td>\n",
       "      <td>2</td>\n",
       "      <td>1.00</td>\n",
       "      <td>770</td>\n",
       "      <td>10000</td>\n",
       "      <td>1.0</td>\n",
       "      <td>0</td>\n",
       "      <td>0</td>\n",
       "      <td>...</td>\n",
       "      <td>6</td>\n",
       "      <td>770</td>\n",
       "      <td>0</td>\n",
       "      <td>1933</td>\n",
       "      <td>0</td>\n",
       "      <td>98028</td>\n",
       "      <td>47.7379</td>\n",
       "      <td>-122.233</td>\n",
       "      <td>2720</td>\n",
       "      <td>8062</td>\n",
       "    </tr>\n",
       "    <tr>\n",
       "      <th>3</th>\n",
       "      <td>2487200875</td>\n",
       "      <td>20141209T000000</td>\n",
       "      <td>604000.0</td>\n",
       "      <td>4</td>\n",
       "      <td>3.00</td>\n",
       "      <td>1960</td>\n",
       "      <td>5000</td>\n",
       "      <td>1.0</td>\n",
       "      <td>0</td>\n",
       "      <td>0</td>\n",
       "      <td>...</td>\n",
       "      <td>7</td>\n",
       "      <td>1050</td>\n",
       "      <td>910</td>\n",
       "      <td>1965</td>\n",
       "      <td>0</td>\n",
       "      <td>98136</td>\n",
       "      <td>47.5208</td>\n",
       "      <td>-122.393</td>\n",
       "      <td>1360</td>\n",
       "      <td>5000</td>\n",
       "    </tr>\n",
       "    <tr>\n",
       "      <th>4</th>\n",
       "      <td>1954400510</td>\n",
       "      <td>20150218T000000</td>\n",
       "      <td>510000.0</td>\n",
       "      <td>3</td>\n",
       "      <td>2.00</td>\n",
       "      <td>1680</td>\n",
       "      <td>8080</td>\n",
       "      <td>1.0</td>\n",
       "      <td>0</td>\n",
       "      <td>0</td>\n",
       "      <td>...</td>\n",
       "      <td>8</td>\n",
       "      <td>1680</td>\n",
       "      <td>0</td>\n",
       "      <td>1987</td>\n",
       "      <td>0</td>\n",
       "      <td>98074</td>\n",
       "      <td>47.6168</td>\n",
       "      <td>-122.045</td>\n",
       "      <td>1800</td>\n",
       "      <td>7503</td>\n",
       "    </tr>\n",
       "    <tr>\n",
       "      <th>5</th>\n",
       "      <td>7237550310</td>\n",
       "      <td>20140512T000000</td>\n",
       "      <td>1225000.0</td>\n",
       "      <td>4</td>\n",
       "      <td>4.50</td>\n",
       "      <td>5420</td>\n",
       "      <td>101930</td>\n",
       "      <td>1.0</td>\n",
       "      <td>0</td>\n",
       "      <td>0</td>\n",
       "      <td>...</td>\n",
       "      <td>11</td>\n",
       "      <td>3890</td>\n",
       "      <td>1530</td>\n",
       "      <td>2001</td>\n",
       "      <td>0</td>\n",
       "      <td>98053</td>\n",
       "      <td>47.6561</td>\n",
       "      <td>-122.005</td>\n",
       "      <td>4760</td>\n",
       "      <td>101930</td>\n",
       "    </tr>\n",
       "    <tr>\n",
       "      <th>6</th>\n",
       "      <td>1321400060</td>\n",
       "      <td>20140627T000000</td>\n",
       "      <td>257500.0</td>\n",
       "      <td>3</td>\n",
       "      <td>2.25</td>\n",
       "      <td>1715</td>\n",
       "      <td>6819</td>\n",
       "      <td>2.0</td>\n",
       "      <td>0</td>\n",
       "      <td>0</td>\n",
       "      <td>...</td>\n",
       "      <td>7</td>\n",
       "      <td>1715</td>\n",
       "      <td>0</td>\n",
       "      <td>1995</td>\n",
       "      <td>0</td>\n",
       "      <td>98003</td>\n",
       "      <td>47.3097</td>\n",
       "      <td>-122.327</td>\n",
       "      <td>2238</td>\n",
       "      <td>6819</td>\n",
       "    </tr>\n",
       "    <tr>\n",
       "      <th>7</th>\n",
       "      <td>2008000270</td>\n",
       "      <td>20150115T000000</td>\n",
       "      <td>291850.0</td>\n",
       "      <td>3</td>\n",
       "      <td>1.50</td>\n",
       "      <td>1060</td>\n",
       "      <td>9711</td>\n",
       "      <td>1.0</td>\n",
       "      <td>0</td>\n",
       "      <td>0</td>\n",
       "      <td>...</td>\n",
       "      <td>7</td>\n",
       "      <td>1060</td>\n",
       "      <td>0</td>\n",
       "      <td>1963</td>\n",
       "      <td>0</td>\n",
       "      <td>98198</td>\n",
       "      <td>47.4095</td>\n",
       "      <td>-122.315</td>\n",
       "      <td>1650</td>\n",
       "      <td>9711</td>\n",
       "    </tr>\n",
       "    <tr>\n",
       "      <th>8</th>\n",
       "      <td>2414600126</td>\n",
       "      <td>20150415T000000</td>\n",
       "      <td>229500.0</td>\n",
       "      <td>3</td>\n",
       "      <td>1.00</td>\n",
       "      <td>1780</td>\n",
       "      <td>7470</td>\n",
       "      <td>1.0</td>\n",
       "      <td>0</td>\n",
       "      <td>0</td>\n",
       "      <td>...</td>\n",
       "      <td>7</td>\n",
       "      <td>1050</td>\n",
       "      <td>730</td>\n",
       "      <td>1960</td>\n",
       "      <td>0</td>\n",
       "      <td>98146</td>\n",
       "      <td>47.5123</td>\n",
       "      <td>-122.337</td>\n",
       "      <td>1780</td>\n",
       "      <td>8113</td>\n",
       "    </tr>\n",
       "    <tr>\n",
       "      <th>9</th>\n",
       "      <td>3793500160</td>\n",
       "      <td>20150312T000000</td>\n",
       "      <td>323000.0</td>\n",
       "      <td>3</td>\n",
       "      <td>2.50</td>\n",
       "      <td>1890</td>\n",
       "      <td>6560</td>\n",
       "      <td>2.0</td>\n",
       "      <td>0</td>\n",
       "      <td>0</td>\n",
       "      <td>...</td>\n",
       "      <td>7</td>\n",
       "      <td>1890</td>\n",
       "      <td>0</td>\n",
       "      <td>2003</td>\n",
       "      <td>0</td>\n",
       "      <td>98038</td>\n",
       "      <td>47.3684</td>\n",
       "      <td>-122.031</td>\n",
       "      <td>2390</td>\n",
       "      <td>7570</td>\n",
       "    </tr>\n",
       "  </tbody>\n",
       "</table>\n",
       "<p>10 rows × 21 columns</p>\n",
       "</div>"
      ],
      "text/plain": [
       "           id             date      price  bedrooms  bathrooms  sqft_living  \\\n",
       "0  7129300520  20141013T000000   221900.0         3       1.00         1180   \n",
       "1  6414100192  20141209T000000   538000.0         3       2.25         2570   \n",
       "2  5631500400  20150225T000000   180000.0         2       1.00          770   \n",
       "3  2487200875  20141209T000000   604000.0         4       3.00         1960   \n",
       "4  1954400510  20150218T000000   510000.0         3       2.00         1680   \n",
       "5  7237550310  20140512T000000  1225000.0         4       4.50         5420   \n",
       "6  1321400060  20140627T000000   257500.0         3       2.25         1715   \n",
       "7  2008000270  20150115T000000   291850.0         3       1.50         1060   \n",
       "8  2414600126  20150415T000000   229500.0         3       1.00         1780   \n",
       "9  3793500160  20150312T000000   323000.0         3       2.50         1890   \n",
       "\n",
       "   sqft_lot  floors  waterfront  view  ...  grade  sqft_above  sqft_basement  \\\n",
       "0      5650     1.0           0     0  ...      7        1180              0   \n",
       "1      7242     2.0           0     0  ...      7        2170            400   \n",
       "2     10000     1.0           0     0  ...      6         770              0   \n",
       "3      5000     1.0           0     0  ...      7        1050            910   \n",
       "4      8080     1.0           0     0  ...      8        1680              0   \n",
       "5    101930     1.0           0     0  ...     11        3890           1530   \n",
       "6      6819     2.0           0     0  ...      7        1715              0   \n",
       "7      9711     1.0           0     0  ...      7        1060              0   \n",
       "8      7470     1.0           0     0  ...      7        1050            730   \n",
       "9      6560     2.0           0     0  ...      7        1890              0   \n",
       "\n",
       "   yr_built  yr_renovated  zipcode      lat     long  sqft_living15  \\\n",
       "0      1955             0    98178  47.5112 -122.257           1340   \n",
       "1      1951          1991    98125  47.7210 -122.319           1690   \n",
       "2      1933             0    98028  47.7379 -122.233           2720   \n",
       "3      1965             0    98136  47.5208 -122.393           1360   \n",
       "4      1987             0    98074  47.6168 -122.045           1800   \n",
       "5      2001             0    98053  47.6561 -122.005           4760   \n",
       "6      1995             0    98003  47.3097 -122.327           2238   \n",
       "7      1963             0    98198  47.4095 -122.315           1650   \n",
       "8      1960             0    98146  47.5123 -122.337           1780   \n",
       "9      2003             0    98038  47.3684 -122.031           2390   \n",
       "\n",
       "   sqft_lot15  \n",
       "0        5650  \n",
       "1        7639  \n",
       "2        8062  \n",
       "3        5000  \n",
       "4        7503  \n",
       "5      101930  \n",
       "6        6819  \n",
       "7        9711  \n",
       "8        8113  \n",
       "9        7570  \n",
       "\n",
       "[10 rows x 21 columns]"
      ]
     },
     "execution_count": 22,
     "metadata": {},
     "output_type": "execute_result"
    }
   ],
   "source": [
    "#Viewing the first 10 rows\n",
    "housing_df.head(10)"
   ]
  },
  {
   "cell_type": "code",
   "execution_count": 23,
   "id": "fe361f31",
   "metadata": {},
   "outputs": [
    {
     "data": {
      "text/plain": [
       "(21613, 21)"
      ]
     },
     "execution_count": 23,
     "metadata": {},
     "output_type": "execute_result"
    }
   ],
   "source": [
    "#Viewing dataframe structure\n",
    "housing_df.shape"
   ]
  },
  {
   "cell_type": "code",
   "execution_count": 24,
   "id": "0103e6f9",
   "metadata": {},
   "outputs": [
    {
     "data": {
      "text/plain": [
       "id               21613\n",
       "date             21613\n",
       "price            21613\n",
       "bedrooms         21613\n",
       "bathrooms        21613\n",
       "sqft_living      21613\n",
       "sqft_lot         21613\n",
       "floors           21613\n",
       "waterfront       21613\n",
       "view             21613\n",
       "condition        21613\n",
       "grade            21613\n",
       "sqft_above       21613\n",
       "sqft_basement    21613\n",
       "yr_built         21613\n",
       "yr_renovated     21613\n",
       "zipcode          21613\n",
       "lat              21613\n",
       "long             21613\n",
       "sqft_living15    21613\n",
       "sqft_lot15       21613\n",
       "dtype: int64"
      ]
     },
     "execution_count": 24,
     "metadata": {},
     "output_type": "execute_result"
    }
   ],
   "source": [
    "#Counting the number of values in each column\n",
    "housing_df.count()"
   ]
  },
  {
   "cell_type": "code",
   "execution_count": 25,
   "id": "7e22f301",
   "metadata": {},
   "outputs": [
    {
     "data": {
      "text/plain": [
       "id               21436\n",
       "date               372\n",
       "price             4028\n",
       "bedrooms            13\n",
       "bathrooms           30\n",
       "sqft_living       1038\n",
       "sqft_lot          9782\n",
       "floors               6\n",
       "waterfront           2\n",
       "view                 5\n",
       "condition            5\n",
       "grade               12\n",
       "sqft_above         946\n",
       "sqft_basement      306\n",
       "yr_built           116\n",
       "yr_renovated        70\n",
       "zipcode             70\n",
       "lat               5034\n",
       "long               752\n",
       "sqft_living15      777\n",
       "sqft_lot15        8689\n",
       "dtype: int64"
      ]
     },
     "execution_count": 25,
     "metadata": {},
     "output_type": "execute_result"
    }
   ],
   "source": [
    "#Counting the number of unique value in each column\n",
    "housing_df.nunique()"
   ]
  },
  {
   "cell_type": "code",
   "execution_count": 26,
   "id": "846983f5",
   "metadata": {},
   "outputs": [
    {
     "name": "stdout",
     "output_type": "stream",
     "text": [
      "<class 'pandas.core.frame.DataFrame'>\n",
      "RangeIndex: 21613 entries, 0 to 21612\n",
      "Data columns (total 21 columns):\n",
      " #   Column         Non-Null Count  Dtype  \n",
      "---  ------         --------------  -----  \n",
      " 0   id             21613 non-null  int64  \n",
      " 1   date           21613 non-null  object \n",
      " 2   price          21613 non-null  float64\n",
      " 3   bedrooms       21613 non-null  int64  \n",
      " 4   bathrooms      21613 non-null  float64\n",
      " 5   sqft_living    21613 non-null  int64  \n",
      " 6   sqft_lot       21613 non-null  int64  \n",
      " 7   floors         21613 non-null  float64\n",
      " 8   waterfront     21613 non-null  int64  \n",
      " 9   view           21613 non-null  int64  \n",
      " 10  condition      21613 non-null  int64  \n",
      " 11  grade          21613 non-null  int64  \n",
      " 12  sqft_above     21613 non-null  int64  \n",
      " 13  sqft_basement  21613 non-null  int64  \n",
      " 14  yr_built       21613 non-null  int64  \n",
      " 15  yr_renovated   21613 non-null  int64  \n",
      " 16  zipcode        21613 non-null  int64  \n",
      " 17  lat            21613 non-null  float64\n",
      " 18  long           21613 non-null  float64\n",
      " 19  sqft_living15  21613 non-null  int64  \n",
      " 20  sqft_lot15     21613 non-null  int64  \n",
      "dtypes: float64(5), int64(15), object(1)\n",
      "memory usage: 3.5+ MB\n"
     ]
    }
   ],
   "source": [
    "#Rechecking if there are any null values in our dataset\n",
    "housing_df.info()"
   ]
  },
  {
   "cell_type": "code",
   "execution_count": 27,
   "id": "1c904dc3",
   "metadata": {},
   "outputs": [
    {
     "data": {
      "text/plain": [
       "Text(0.5, 1.0, 'Empty Data')"
      ]
     },
     "execution_count": 27,
     "metadata": {},
     "output_type": "execute_result"
    },
    {
     "data": {
      "image/png": "[encoded data removed]",
      "text/plain": [
       "<Figure size 432x288 with 2 Axes>"
      ]
     },
     "metadata": {
      "needs_background": "light"
     },
     "output_type": "display_data"
    }
   ],
   "source": [
    "#Plotting null values in our dataset by using heatmap\n",
    "sns.heatmap(housing_df.isnull())\n",
    "plt.title(\"Empty Data\")"
   ]
  },
  {
   "cell_type": "code",
   "execution_count": 28,
   "id": "cf3fc702",
   "metadata": {},
   "outputs": [],
   "source": [
    "#Because yr_built is a ordinal variable, I will transform it to a numeric variable.\n",
    "#Creating AGE variable (age of the property)\n",
    "housing_df['age'] = 2022 - housing_df['yr_built']"
   ]
  },
  {
   "cell_type": "code",
   "execution_count": 29,
   "id": "41bfd939",
   "metadata": {},
   "outputs": [],
   "source": [
    "#Changing yr_renovated variable to dummy variable (whether the apartment was renovated or not)\n",
    "housing_df.loc[housing_df['yr_renovated'] != 0, 'yr_renovated'] = 1"
   ]
  },
  {
   "cell_type": "code",
   "execution_count": 39,
   "id": "bd10b3fb",
   "metadata": {},
   "outputs": [],
   "source": [
    "#Renaming column yr_renovated to renovated\n",
    "housing_df.rename(columns={'yr_renovated': 'renovated'}, inplace=True)"
   ]
  },
  {
   "cell_type": "code",
   "execution_count": 40,
   "id": "6e7df5b3",
   "metadata": {},
   "outputs": [],
   "source": [
    "#Droping unnecessary columns id, date, yr_built, zipcode in housing dataset\n",
    "housing_df.drop(['id', 'date', 'yr_built', 'zipcode'], axis=1, inplace=True)"
   ]
  },
  {
   "cell_type": "code",
   "execution_count": 41,
   "id": "ce1aa9db",
   "metadata": {},
   "outputs": [
    {
     "data": {
      "text/plain": [
       "(21613, 18)"
      ]
     },
     "execution_count": 41,
     "metadata": {},
     "output_type": "execute_result"
    }
   ],
   "source": [
    "#Viewing dataframe structure\n",
    "housing_df.shape"
   ]
  },
  {
   "cell_type": "markdown",
   "id": "2e389ba2",
   "metadata": {},
   "source": [
    "## Data partitioning"
   ]
  },
  {
   "cell_type": "code",
   "execution_count": 42,
   "id": "1e89aa3e",
   "metadata": {},
   "outputs": [],
   "source": [
    "#Creating X and y data matrices (X = predictor variables, y = outcome variable)\n",
    "X=housing_df.drop(labels=['price'], axis=1)\n",
    "y=housing_df['price']"
   ]
  },
  {
   "cell_type": "code",
   "execution_count": 43,
   "id": "7a981762",
   "metadata": {},
   "outputs": [],
   "source": [
    "#Splitting the dataset into training set size = 0.6 and validation set size = 0.4\n",
    "train_X, valid_X, train_y, valid_y = train_test_split(X, y, test_size=0.4, random_state=1)"
   ]
  },
  {
   "cell_type": "code",
   "execution_count": 44,
   "id": "c9277e9f",
   "metadata": {},
   "outputs": [
    {
     "data": {
      "text/plain": [
       "((12967, 17), (12967,), (8646, 17), (8646,))"
      ]
     },
     "execution_count": 44,
     "metadata": {},
     "output_type": "execute_result"
    }
   ],
   "source": [
    "train_X.shape, train_y.shape, valid_X.shape, valid_y.shape"
   ]
  },
  {
   "cell_type": "markdown",
   "id": "4431ce14",
   "metadata": {},
   "source": [
    "To avoid overfitting, we will be running all the functions and training only on the training set (not train again on the test dataset), and then what features we take away from the train dataset, we are going do the same on the validation set."
   ]
  },
  {
   "cell_type": "markdown",
   "id": "03ac6174",
   "metadata": {},
   "source": [
    "## Feature selection using correlation heatmap"
   ]
  },
  {
   "cell_type": "code",
   "execution_count": 45,
   "id": "89d960a4",
   "metadata": {},
   "outputs": [
    {
     "data": {
      "text/plain": [
       "<AxesSubplot:>"
      ]
     },
     "execution_count": 45,
     "metadata": {},
     "output_type": "execute_result"
    },
    {
     "data": {
      "image/png": "[encoded data removed]",
      "text/plain": [
       "<Figure size 432x288 with 2 Axes>"
      ]
     },
     "metadata": {
      "needs_background": "light"
     },
     "output_type": "display_data"
    },
    {
     "data": {
      "image/png": "[encoded data removed]",
      "text/plain": [
       "<Figure size 792x504 with 2 Axes>"
      ]
     },
     "metadata": {
      "needs_background": "light"
     },
     "output_type": "display_data"
    }
   ],
   "source": [
    "#Constructing a heatmap of correlation on the training set (for only independent features)\n",
    "corr = train_X.corr()\n",
    "sns.heatmap(corr)\n",
    "fig, ax = plt.subplots()\n",
    "fig.set_size_inches(11, 7)\n",
    "sns.heatmap(corr, annot=True, fmt=\".1f\", cmap=\"RdBu\", center=0, ax=ax)"
   ]
  },
  {
   "cell_type": "code",
   "execution_count": 46,
   "id": "8c47eab1",
   "metadata": {},
   "outputs": [],
   "source": [
    "#Build corr function and use it to eliminate predictors on train x and valid x (sqft_above)\n",
    "#With the following function we can select highly correlated features\n",
    "#The function will remove the first feature that is correlated with other features\n",
    "\n",
    "def correlation(dataset, threshold): # correlation-function name, dataset=train_X, threshold=0.8)\n",
    "    col_corr = set()  # Set of all the names of correlated columns\n",
    "    corr_matrix = dataset.corr()\n",
    "    for i in range(len(corr_matrix.columns)): # i goes through all the values in the correlation matrix columns\n",
    "        for j in range(i):\n",
    "            if abs(corr_matrix.iloc[i, j]) > threshold: # we use each absolute coeff value to compare with threshold value\n",
    "                colname = corr_matrix.columns[i]  # getting the name of column\n",
    "                col_corr.add(colname) # add the column name to the col_corr set created\n",
    "    return col_corr"
   ]
  },
  {
   "cell_type": "code",
   "execution_count": 47,
   "id": "c177f8ee",
   "metadata": {},
   "outputs": [
    {
     "data": {
      "text/plain": [
       "1"
      ]
     },
     "execution_count": 47,
     "metadata": {},
     "output_type": "execute_result"
    }
   ],
   "source": [
    "#Build corr function and use it to eliminate predictors on train x and valid x (sqft_above)\n",
    "#Count the number of highly correlated features (cutoff 0.8)\n",
    "corr_features = correlation(train_X, 0.8)\n",
    "len(set(corr_features))"
   ]
  },
  {
   "cell_type": "code",
   "execution_count": 48,
   "id": "b5fe6bde",
   "metadata": {},
   "outputs": [
    {
     "data": {
      "text/plain": [
       "{'sqft_above'}"
      ]
     },
     "execution_count": 48,
     "metadata": {},
     "output_type": "execute_result"
    }
   ],
   "source": [
    "#Build corr function and use it to eliminate predictors on train x and valid x (sqft_above)\n",
    "#Print the name of highly correlated features\n",
    "corr_features"
   ]
  },
  {
   "cell_type": "code",
   "execution_count": 49,
   "id": "97257e62",
   "metadata": {},
   "outputs": [],
   "source": [
    "#Build corr function and use it to eliminate predictors on train x and valid x (sqft_above)\n",
    "#Remove highly correlated feature (sqft_above) out of training dataset\n",
    "train_X.drop(corr_features,axis=1, inplace= True)"
   ]
  },
  {
   "cell_type": "code",
   "execution_count": 50,
   "id": "a65d8f76",
   "metadata": {},
   "outputs": [],
   "source": [
    "#Build corr function and use it to eliminate predictors on train x and valid x (sqft_above)\n",
    "#Remove highly correlated feature (sqft_above) out of test dataset\n",
    "valid_X.drop(corr_features,axis=1, inplace= True)"
   ]
  },
  {
   "cell_type": "code",
   "execution_count": 53,
   "id": "11d44dab",
   "metadata": {},
   "outputs": [
    {
     "data": {
      "text/plain": [
       "((12967, 16), (8646, 16))"
      ]
     },
     "execution_count": 53,
     "metadata": {},
     "output_type": "execute_result"
    }
   ],
   "source": [
    "train_X.shape, valid_X.shape"
   ]
  },
  {
   "cell_type": "markdown",
   "id": "c9544f06",
   "metadata": {},
   "source": [
    "## Demo Linear Regression model"
   ]
  },
  {
   "cell_type": "code",
   "execution_count": 54,
   "id": "27b0377b",
   "metadata": {},
   "outputs": [],
   "source": [
    "#Build demo regression model\n",
    "model1 = LinearRegression().fit(train_X, train_y)"
   ]
  },
  {
   "cell_type": "code",
   "execution_count": 55,
   "id": "3d84d245",
   "metadata": {},
   "outputs": [
    {
     "name": "stdout",
     "output_type": "stream",
     "text": [
      "Intercept: -41033285.5056233\n",
      "        Predictor   Coefficients\n",
      "0        bedrooms  -30947.620818\n",
      "1       bathrooms   40082.014195\n",
      "2     sqft_living     172.809372\n",
      "3        sqft_lot       0.095906\n",
      "4          floors    3337.586847\n",
      "5      waterfront  547255.098118\n",
      "6            view   47838.310839\n",
      "7       condition   29951.082945\n",
      "8           grade   97684.365673\n",
      "9   sqft_basement     -30.578665\n",
      "10      renovated   48097.996962\n",
      "11            lat  573399.966345\n",
      "12           long -105769.167222\n",
      "13  sqft_living15      25.480415\n",
      "14     sqft_lot15      -0.286905\n",
      "15            age    2413.528549\n"
     ]
    }
   ],
   "source": [
    "print('Intercept:', model1.intercept_)\n",
    "print(pd.DataFrame({'Predictor': train_X.columns, 'Coefficients': model1.coef_}))"
   ]
  },
  {
   "cell_type": "code",
   "execution_count": 56,
   "id": "61822ea8",
   "metadata": {},
   "outputs": [
    {
     "name": "stdout",
     "output_type": "stream",
     "text": [
      "\n",
      "Regression statistics\n",
      "\n",
      "                      Mean Error (ME) : -0.0000\n",
      "       Root Mean Squared Error (RMSE) : 195509.7713\n",
      "            Mean Absolute Error (MAE) : 123697.5277\n",
      "          Mean Percentage Error (MPE) : -4.2687\n",
      "Mean Absolute Percentage Error (MAPE) : 25.1152\n"
     ]
    }
   ],
   "source": [
    "# print performance measures (training data)\n",
    "regressionSummary(train_y, model1.predict(train_X))"
   ]
  },
  {
   "cell_type": "code",
   "execution_count": 57,
   "id": "921bbf22",
   "metadata": {},
   "outputs": [],
   "source": [
    "# Use predict() to make predictions on test set\n",
    "y_pred1 = model1.predict(valid_X)"
   ]
  },
  {
   "cell_type": "code",
   "execution_count": 58,
   "id": "7d80292d",
   "metadata": {},
   "outputs": [
    {
     "name": "stdout",
     "output_type": "stream",
     "text": [
      "       Predicted Values  Actual Values      Residuals\n",
      "15544     651944.764330       459000.0 -192944.764330\n",
      "17454     434907.786287       445000.0   10092.213713\n"
     ]
    }
   ],
   "source": [
    "result = pd.DataFrame({'Predicted Values': y_pred1, 'Actual Values': valid_y, 'Residuals': valid_y - y_pred1})\n",
    "print(result.head(2))"
   ]
  },
  {
   "cell_type": "code",
   "execution_count": 59,
   "id": "44633faf",
   "metadata": {},
   "outputs": [
    {
     "name": "stdout",
     "output_type": "stream",
     "text": [
      "\n",
      "Regression statistics\n",
      "\n",
      "                      Mean Error (ME) : 2777.5995\n",
      "       Root Mean Squared Error (RMSE) : 213188.0633\n",
      "            Mean Absolute Error (MAE) : 127194.4774\n",
      "          Mean Percentage Error (MPE) : -3.9283\n",
      "Mean Absolute Percentage Error (MAPE) : 25.2598\n"
     ]
    }
   ],
   "source": [
    "#print performace measures (test data)\n",
    "regressionSummary(valid_y, model1.predict(valid_X))"
   ]
  },
  {
   "cell_type": "code",
   "execution_count": 60,
   "id": "2e4bed04",
   "metadata": {},
   "outputs": [
    {
     "name": "stdout",
     "output_type": "stream",
     "text": [
      "Coefficient of determination (R^2): 0.69\n"
     ]
    }
   ],
   "source": [
    "#Predictive accuracy measurement for demo model\n",
    "from sklearn.metrics import r2_score\n",
    "print('Coefficient of determination (R^2): %.2f'\n",
    "      % r2_score(valid_y, y_pred1))\n",
    "#Coefficient of determination measures how well the regession model predicts the outcome variable."
   ]
  },
  {
   "cell_type": "markdown",
   "id": "eae3376e",
   "metadata": {},
   "source": [
    "## Conducting exhaustive search"
   ]
  },
  {
   "cell_type": "code",
   "execution_count": 62,
   "id": "7e3542f3",
   "metadata": {},
   "outputs": [
    {
     "data": {
      "text/html": [
       "<div>\n",
       "<style scoped>\n",
       "    .dataframe tbody tr th:only-of-type {\n",
       "        vertical-align: middle;\n",
       "    }\n",
       "\n",
       "    .dataframe tbody tr th {\n",
       "        vertical-align: top;\n",
       "    }\n",
       "\n",
       "    .dataframe thead th {\n",
       "        text-align: right;\n",
       "    }\n",
       "</style>\n",
       "<table border=\"1\" class=\"dataframe\">\n",
       "  <thead>\n",
       "    <tr style=\"text-align: right;\">\n",
       "      <th></th>\n",
       "      <th>n</th>\n",
       "      <th>r2adj</th>\n",
       "      <th>AIC</th>\n",
       "      <th>age</th>\n",
       "      <th>bathrooms</th>\n",
       "      <th>bedrooms</th>\n",
       "      <th>condition</th>\n",
       "      <th>floors</th>\n",
       "      <th>grade</th>\n",
       "      <th>lat</th>\n",
       "      <th>long</th>\n",
       "      <th>renovated</th>\n",
       "      <th>sqft_basement</th>\n",
       "      <th>sqft_living</th>\n",
       "      <th>sqft_living15</th>\n",
       "      <th>sqft_lot</th>\n",
       "      <th>sqft_lot15</th>\n",
       "      <th>view</th>\n",
       "      <th>waterfront</th>\n",
       "    </tr>\n",
       "  </thead>\n",
       "  <tbody>\n",
       "    <tr>\n",
       "      <th>0</th>\n",
       "      <td>1</td>\n",
       "      <td>0.486086</td>\n",
       "      <td>359591.114468</td>\n",
       "      <td>False</td>\n",
       "      <td>False</td>\n",
       "      <td>False</td>\n",
       "      <td>False</td>\n",
       "      <td>False</td>\n",
       "      <td>False</td>\n",
       "      <td>False</td>\n",
       "      <td>False</td>\n",
       "      <td>False</td>\n",
       "      <td>False</td>\n",
       "      <td>True</td>\n",
       "      <td>False</td>\n",
       "      <td>False</td>\n",
       "      <td>False</td>\n",
       "      <td>False</td>\n",
       "      <td>False</td>\n",
       "    </tr>\n",
       "    <tr>\n",
       "      <th>1</th>\n",
       "      <td>2</td>\n",
       "      <td>0.566486</td>\n",
       "      <td>357386.001830</td>\n",
       "      <td>False</td>\n",
       "      <td>False</td>\n",
       "      <td>False</td>\n",
       "      <td>False</td>\n",
       "      <td>False</td>\n",
       "      <td>False</td>\n",
       "      <td>True</td>\n",
       "      <td>False</td>\n",
       "      <td>False</td>\n",
       "      <td>False</td>\n",
       "      <td>True</td>\n",
       "      <td>False</td>\n",
       "      <td>False</td>\n",
       "      <td>False</td>\n",
       "      <td>False</td>\n",
       "      <td>False</td>\n",
       "    </tr>\n",
       "    <tr>\n",
       "      <th>2</th>\n",
       "      <td>3</td>\n",
       "      <td>0.609097</td>\n",
       "      <td>356045.387343</td>\n",
       "      <td>False</td>\n",
       "      <td>False</td>\n",
       "      <td>False</td>\n",
       "      <td>False</td>\n",
       "      <td>False</td>\n",
       "      <td>False</td>\n",
       "      <td>True</td>\n",
       "      <td>False</td>\n",
       "      <td>False</td>\n",
       "      <td>False</td>\n",
       "      <td>True</td>\n",
       "      <td>False</td>\n",
       "      <td>False</td>\n",
       "      <td>False</td>\n",
       "      <td>True</td>\n",
       "      <td>False</td>\n",
       "    </tr>\n",
       "    <tr>\n",
       "      <th>3</th>\n",
       "      <td>4</td>\n",
       "      <td>0.643432</td>\n",
       "      <td>354854.266097</td>\n",
       "      <td>True</td>\n",
       "      <td>False</td>\n",
       "      <td>False</td>\n",
       "      <td>False</td>\n",
       "      <td>False</td>\n",
       "      <td>True</td>\n",
       "      <td>True</td>\n",
       "      <td>False</td>\n",
       "      <td>False</td>\n",
       "      <td>False</td>\n",
       "      <td>True</td>\n",
       "      <td>False</td>\n",
       "      <td>False</td>\n",
       "      <td>False</td>\n",
       "      <td>False</td>\n",
       "      <td>False</td>\n",
       "    </tr>\n",
       "    <tr>\n",
       "      <th>4</th>\n",
       "      <td>5</td>\n",
       "      <td>0.676026</td>\n",
       "      <td>353612.217039</td>\n",
       "      <td>True</td>\n",
       "      <td>False</td>\n",
       "      <td>False</td>\n",
       "      <td>False</td>\n",
       "      <td>False</td>\n",
       "      <td>True</td>\n",
       "      <td>True</td>\n",
       "      <td>False</td>\n",
       "      <td>False</td>\n",
       "      <td>False</td>\n",
       "      <td>True</td>\n",
       "      <td>False</td>\n",
       "      <td>False</td>\n",
       "      <td>False</td>\n",
       "      <td>False</td>\n",
       "      <td>True</td>\n",
       "    </tr>\n",
       "    <tr>\n",
       "      <th>5</th>\n",
       "      <td>6</td>\n",
       "      <td>0.685241</td>\n",
       "      <td>353239.026458</td>\n",
       "      <td>True</td>\n",
       "      <td>False</td>\n",
       "      <td>False</td>\n",
       "      <td>False</td>\n",
       "      <td>False</td>\n",
       "      <td>True</td>\n",
       "      <td>True</td>\n",
       "      <td>False</td>\n",
       "      <td>False</td>\n",
       "      <td>False</td>\n",
       "      <td>True</td>\n",
       "      <td>False</td>\n",
       "      <td>False</td>\n",
       "      <td>False</td>\n",
       "      <td>True</td>\n",
       "      <td>True</td>\n",
       "    </tr>\n",
       "    <tr>\n",
       "      <th>6</th>\n",
       "      <td>7</td>\n",
       "      <td>0.688108</td>\n",
       "      <td>353121.383764</td>\n",
       "      <td>True</td>\n",
       "      <td>False</td>\n",
       "      <td>True</td>\n",
       "      <td>False</td>\n",
       "      <td>False</td>\n",
       "      <td>True</td>\n",
       "      <td>True</td>\n",
       "      <td>False</td>\n",
       "      <td>False</td>\n",
       "      <td>False</td>\n",
       "      <td>True</td>\n",
       "      <td>False</td>\n",
       "      <td>False</td>\n",
       "      <td>False</td>\n",
       "      <td>True</td>\n",
       "      <td>True</td>\n",
       "    </tr>\n",
       "    <tr>\n",
       "      <th>7</th>\n",
       "      <td>8</td>\n",
       "      <td>0.691060</td>\n",
       "      <td>352999.075935</td>\n",
       "      <td>True</td>\n",
       "      <td>True</td>\n",
       "      <td>True</td>\n",
       "      <td>False</td>\n",
       "      <td>False</td>\n",
       "      <td>True</td>\n",
       "      <td>True</td>\n",
       "      <td>False</td>\n",
       "      <td>False</td>\n",
       "      <td>False</td>\n",
       "      <td>True</td>\n",
       "      <td>False</td>\n",
       "      <td>False</td>\n",
       "      <td>False</td>\n",
       "      <td>True</td>\n",
       "      <td>True</td>\n",
       "    </tr>\n",
       "    <tr>\n",
       "      <th>8</th>\n",
       "      <td>9</td>\n",
       "      <td>0.692649</td>\n",
       "      <td>352933.214896</td>\n",
       "      <td>True</td>\n",
       "      <td>True</td>\n",
       "      <td>True</td>\n",
       "      <td>True</td>\n",
       "      <td>False</td>\n",
       "      <td>True</td>\n",
       "      <td>True</td>\n",
       "      <td>False</td>\n",
       "      <td>False</td>\n",
       "      <td>False</td>\n",
       "      <td>True</td>\n",
       "      <td>False</td>\n",
       "      <td>False</td>\n",
       "      <td>False</td>\n",
       "      <td>True</td>\n",
       "      <td>True</td>\n",
       "    </tr>\n",
       "    <tr>\n",
       "      <th>9</th>\n",
       "      <td>10</td>\n",
       "      <td>0.693502</td>\n",
       "      <td>352898.171531</td>\n",
       "      <td>True</td>\n",
       "      <td>True</td>\n",
       "      <td>True</td>\n",
       "      <td>True</td>\n",
       "      <td>False</td>\n",
       "      <td>True</td>\n",
       "      <td>True</td>\n",
       "      <td>False</td>\n",
       "      <td>False</td>\n",
       "      <td>True</td>\n",
       "      <td>True</td>\n",
       "      <td>False</td>\n",
       "      <td>False</td>\n",
       "      <td>False</td>\n",
       "      <td>True</td>\n",
       "      <td>True</td>\n",
       "    </tr>\n",
       "    <tr>\n",
       "      <th>10</th>\n",
       "      <td>11</td>\n",
       "      <td>0.694480</td>\n",
       "      <td>352857.728096</td>\n",
       "      <td>True</td>\n",
       "      <td>True</td>\n",
       "      <td>True</td>\n",
       "      <td>True</td>\n",
       "      <td>False</td>\n",
       "      <td>True</td>\n",
       "      <td>True</td>\n",
       "      <td>True</td>\n",
       "      <td>False</td>\n",
       "      <td>True</td>\n",
       "      <td>True</td>\n",
       "      <td>False</td>\n",
       "      <td>False</td>\n",
       "      <td>False</td>\n",
       "      <td>True</td>\n",
       "      <td>True</td>\n",
       "    </tr>\n",
       "    <tr>\n",
       "      <th>11</th>\n",
       "      <td>12</td>\n",
       "      <td>0.695159</td>\n",
       "      <td>352829.862371</td>\n",
       "      <td>True</td>\n",
       "      <td>True</td>\n",
       "      <td>True</td>\n",
       "      <td>True</td>\n",
       "      <td>False</td>\n",
       "      <td>True</td>\n",
       "      <td>True</td>\n",
       "      <td>True</td>\n",
       "      <td>False</td>\n",
       "      <td>True</td>\n",
       "      <td>True</td>\n",
       "      <td>True</td>\n",
       "      <td>False</td>\n",
       "      <td>False</td>\n",
       "      <td>True</td>\n",
       "      <td>True</td>\n",
       "    </tr>\n",
       "    <tr>\n",
       "      <th>12</th>\n",
       "      <td>13</td>\n",
       "      <td>0.695787</td>\n",
       "      <td>352804.145682</td>\n",
       "      <td>True</td>\n",
       "      <td>True</td>\n",
       "      <td>True</td>\n",
       "      <td>True</td>\n",
       "      <td>False</td>\n",
       "      <td>True</td>\n",
       "      <td>True</td>\n",
       "      <td>True</td>\n",
       "      <td>True</td>\n",
       "      <td>True</td>\n",
       "      <td>True</td>\n",
       "      <td>True</td>\n",
       "      <td>False</td>\n",
       "      <td>False</td>\n",
       "      <td>True</td>\n",
       "      <td>True</td>\n",
       "    </tr>\n",
       "    <tr>\n",
       "      <th>13</th>\n",
       "      <td>14</td>\n",
       "      <td>0.695960</td>\n",
       "      <td>352797.768736</td>\n",
       "      <td>True</td>\n",
       "      <td>True</td>\n",
       "      <td>True</td>\n",
       "      <td>True</td>\n",
       "      <td>False</td>\n",
       "      <td>True</td>\n",
       "      <td>True</td>\n",
       "      <td>True</td>\n",
       "      <td>True</td>\n",
       "      <td>True</td>\n",
       "      <td>True</td>\n",
       "      <td>True</td>\n",
       "      <td>False</td>\n",
       "      <td>True</td>\n",
       "      <td>True</td>\n",
       "      <td>True</td>\n",
       "    </tr>\n",
       "    <tr>\n",
       "      <th>14</th>\n",
       "      <td>15</td>\n",
       "      <td>0.696008</td>\n",
       "      <td>352796.708317</td>\n",
       "      <td>True</td>\n",
       "      <td>True</td>\n",
       "      <td>True</td>\n",
       "      <td>True</td>\n",
       "      <td>False</td>\n",
       "      <td>True</td>\n",
       "      <td>True</td>\n",
       "      <td>True</td>\n",
       "      <td>True</td>\n",
       "      <td>True</td>\n",
       "      <td>True</td>\n",
       "      <td>True</td>\n",
       "      <td>True</td>\n",
       "      <td>True</td>\n",
       "      <td>True</td>\n",
       "      <td>True</td>\n",
       "    </tr>\n",
       "    <tr>\n",
       "      <th>15</th>\n",
       "      <td>16</td>\n",
       "      <td>0.695998</td>\n",
       "      <td>352798.156382</td>\n",
       "      <td>True</td>\n",
       "      <td>True</td>\n",
       "      <td>True</td>\n",
       "      <td>True</td>\n",
       "      <td>True</td>\n",
       "      <td>True</td>\n",
       "      <td>True</td>\n",
       "      <td>True</td>\n",
       "      <td>True</td>\n",
       "      <td>True</td>\n",
       "      <td>True</td>\n",
       "      <td>True</td>\n",
       "      <td>True</td>\n",
       "      <td>True</td>\n",
       "      <td>True</td>\n",
       "      <td>True</td>\n",
       "    </tr>\n",
       "  </tbody>\n",
       "</table>\n",
       "</div>"
      ],
      "text/plain": [
       "     n     r2adj            AIC    age  bathrooms  bedrooms  condition  \\\n",
       "0    1  0.486086  359591.114468  False      False     False      False   \n",
       "1    2  0.566486  357386.001830  False      False     False      False   \n",
       "2    3  0.609097  356045.387343  False      False     False      False   \n",
       "3    4  0.643432  354854.266097   True      False     False      False   \n",
       "4    5  0.676026  353612.217039   True      False     False      False   \n",
       "5    6  0.685241  353239.026458   True      False     False      False   \n",
       "6    7  0.688108  353121.383764   True      False      True      False   \n",
       "7    8  0.691060  352999.075935   True       True      True      False   \n",
       "8    9  0.692649  352933.214896   True       True      True       True   \n",
       "9   10  0.693502  352898.171531   True       True      True       True   \n",
       "10  11  0.694480  352857.728096   True       True      True       True   \n",
       "11  12  0.695159  352829.862371   True       True      True       True   \n",
       "12  13  0.695787  352804.145682   True       True      True       True   \n",
       "13  14  0.695960  352797.768736   True       True      True       True   \n",
       "14  15  0.696008  352796.708317   True       True      True       True   \n",
       "15  16  0.695998  352798.156382   True       True      True       True   \n",
       "\n",
       "    floors  grade    lat   long  renovated  sqft_basement  sqft_living  \\\n",
       "0    False  False  False  False      False          False         True   \n",
       "1    False  False   True  False      False          False         True   \n",
       "2    False  False   True  False      False          False         True   \n",
       "3    False   True   True  False      False          False         True   \n",
       "4    False   True   True  False      False          False         True   \n",
       "5    False   True   True  False      False          False         True   \n",
       "6    False   True   True  False      False          False         True   \n",
       "7    False   True   True  False      False          False         True   \n",
       "8    False   True   True  False      False          False         True   \n",
       "9    False   True   True  False      False           True         True   \n",
       "10   False   True   True   True      False           True         True   \n",
       "11   False   True   True   True      False           True         True   \n",
       "12   False   True   True   True       True           True         True   \n",
       "13   False   True   True   True       True           True         True   \n",
       "14   False   True   True   True       True           True         True   \n",
       "15    True   True   True   True       True           True         True   \n",
       "\n",
       "    sqft_living15  sqft_lot  sqft_lot15   view  waterfront  \n",
       "0           False     False       False  False       False  \n",
       "1           False     False       False  False       False  \n",
       "2           False     False       False   True       False  \n",
       "3           False     False       False  False       False  \n",
       "4           False     False       False  False        True  \n",
       "5           False     False       False   True        True  \n",
       "6           False     False       False   True        True  \n",
       "7           False     False       False   True        True  \n",
       "8           False     False       False   True        True  \n",
       "9           False     False       False   True        True  \n",
       "10          False     False       False   True        True  \n",
       "11           True     False       False   True        True  \n",
       "12           True     False       False   True        True  \n",
       "13           True     False        True   True        True  \n",
       "14           True      True        True   True        True  \n",
       "15           True      True        True   True        True  "
      ]
     },
     "execution_count": 62,
     "metadata": {},
     "output_type": "execute_result"
    }
   ],
   "source": [
    "#Exhaustive Search Code on training dataset\n",
    "def train_model(variables):\n",
    "    model1 = LinearRegression()\n",
    "    model1.fit(train_X[list(variables)], train_y)\n",
    "    return model1\n",
    "#use funtion to pick list of variables all over again\n",
    "\n",
    "def score_model(model1, variables):\n",
    "    pred_y = model1.predict(train_X[list(variables)])\n",
    "    # we negate as score is optimized to be as low as possible\n",
    "    return -adjusted_r2_score(train_y, pred_y, model1)\n",
    "\n",
    "allVariables = train_X.columns\n",
    "results = exhaustive_search(allVariables, train_model, score_model)\n",
    "\n",
    "data = []\n",
    "for result in results:\n",
    "    model1 = result['model']\n",
    "    variables = list(result['variables'])\n",
    "    AIC = AIC_score(train_y, model1.predict(train_X[variables]), model1)\n",
    "\n",
    "    d = {'n': result['n'], 'r2adj': -result['score'], 'AIC':AIC}\n",
    "    d.update({var: var in result['variables'] for var in allVariables})\n",
    "    data.append(d)\n",
    "pd.DataFrame(data, columns=('n', 'r2adj', 'AIC') + tuple(sorted(allVariables)))\n",
    "\n",
    "#Note: 𝑅𝑎𝑑𝑗^2 0.685 indicates that a model with 6 predictors is good (not so different with R^2 0.695 of 16 predictors).\n",
    "#This model can help us save storage space, amd time on processing/analysis"
   ]
  },
  {
   "cell_type": "code",
   "execution_count": 88,
   "id": "d012a00b",
   "metadata": {},
   "outputs": [],
   "source": [
    "#Remove unnecessary features out of traing dataset, only keep 'true' predictors at line n = 6\n",
    "train_X = train_X[['age', 'grade', 'lat', 'sqft_living', 'view', 'waterfront']]"
   ]
  },
  {
   "cell_type": "code",
   "execution_count": 89,
   "id": "88b55c4e",
   "metadata": {},
   "outputs": [],
   "source": [
    "#Remove unnecessary features out of test dataset\n",
    "valid_X = valid_X[['age', 'grade', 'lat', 'sqft_living', 'view', 'waterfront']]"
   ]
  },
  {
   "cell_type": "markdown",
   "id": "31519c28",
   "metadata": {},
   "source": [
    "## Multiple linear regression model"
   ]
  },
  {
   "cell_type": "code",
   "execution_count": 90,
   "id": "b1019de8",
   "metadata": {},
   "outputs": [],
   "source": [
    "#Build new model with 6 predictors based on Exhaustive Search result\n",
    "model2 = LinearRegression().fit(train_X, train_y)"
   ]
  },
  {
   "cell_type": "code",
   "execution_count": 91,
   "id": "729fc16c",
   "metadata": {},
   "outputs": [
    {
     "name": "stdout",
     "output_type": "stream",
     "text": [
      "Intercept: -28213094.424261123\n",
      "     Predictor   Coefficients\n",
      "0          age    2502.715971\n",
      "1        grade  114286.776696\n",
      "2          lat  575831.232756\n",
      "3  sqft_living     166.491132\n",
      "4         view   51684.316285\n",
      "5   waterfront  574552.675588\n"
     ]
    }
   ],
   "source": [
    "print('Intercept:', model2.intercept_)\n",
    "print(pd.DataFrame({'Predictor': train_X.columns, 'Coefficients': model2.coef_}))"
   ]
  },
  {
   "cell_type": "code",
   "execution_count": 92,
   "id": "1c5d0e54",
   "metadata": {},
   "outputs": [
    {
     "name": "stdout",
     "output_type": "stream",
     "text": [
      "\n",
      "Regression statistics\n",
      "\n",
      "                      Mean Error (ME) : -0.0000\n",
      "       Root Mean Squared Error (RMSE) : 199015.2076\n",
      "            Mean Absolute Error (MAE) : 126329.9038\n",
      "          Mean Percentage Error (MPE) : -4.6252\n",
      "Mean Absolute Percentage Error (MAPE) : 25.7036\n"
     ]
    }
   ],
   "source": [
    "# Print performance measures (training data)\n",
    "regressionSummary(train_y, model2.predict(train_X))"
   ]
  },
  {
   "cell_type": "code",
   "execution_count": 93,
   "id": "3da5edac",
   "metadata": {},
   "outputs": [],
   "source": [
    "# Use predict() to make predictions on a new set\n",
    "y_pred2 = model2.predict(valid_X)"
   ]
  },
  {
   "cell_type": "code",
   "execution_count": 94,
   "id": "d652b16b",
   "metadata": {},
   "outputs": [
    {
     "name": "stdout",
     "output_type": "stream",
     "text": [
      "       Predicted Values  Actual Values      Residuals\n",
      "15544     650302.099809       459000.0 -191302.099809\n",
      "17454     431376.494626       445000.0   13623.505374\n"
     ]
    }
   ],
   "source": [
    "#Use regrssion model to predict the prices of the two houses\n",
    "result = pd.DataFrame({'Predicted Values': y_pred2, 'Actual Values': valid_y, 'Residuals': valid_y - y_pred2})\n",
    "print(result.head(2))"
   ]
  },
  {
   "cell_type": "code",
   "execution_count": 95,
   "id": "7fce03fc",
   "metadata": {},
   "outputs": [
    {
     "name": "stdout",
     "output_type": "stream",
     "text": [
      "\n",
      "Regression statistics\n",
      "\n",
      "                      Mean Error (ME) : 2964.8910\n",
      "       Root Mean Squared Error (RMSE) : 217316.3443\n",
      "            Mean Absolute Error (MAE) : 130093.2590\n",
      "          Mean Percentage Error (MPE) : -4.3570\n",
      "Mean Absolute Percentage Error (MAPE) : 25.8786\n"
     ]
    }
   ],
   "source": [
    "#print performace measures (test data)\n",
    "regressionSummary(valid_y, model2.predict(valid_X))\n",
    "\n",
    "#Training data Errors < Test data errors, model is not overfitting\n",
    "#The difference in errors between Training set and Test set are not significant => good"
   ]
  },
  {
   "cell_type": "code",
   "execution_count": 96,
   "id": "374e0328",
   "metadata": {},
   "outputs": [
    {
     "name": "stdout",
     "output_type": "stream",
     "text": [
      "Coefficient of determination (R^2): 0.68\n"
     ]
    }
   ],
   "source": [
    "#Predictive accuracy measurement\n",
    "from sklearn.metrics import r2_score\n",
    "print('Coefficient of determination (R^2): %.2f'\n",
    "      % r2_score(valid_y, y_pred2))\n",
    "#Coefficient of determination measures how well the regession model predicts the outcome variable.\n",
    "#the larger the R^2, the better the regression model can explain the outcome variable and fit the actual values"
   ]
  },
  {
   "cell_type": "code",
   "execution_count": 97,
   "id": "93d1b1f9",
   "metadata": {},
   "outputs": [
    {
     "data": {
      "text/plain": [
       "Text(0.5, 0, 'Training')"
      ]
     },
     "execution_count": 97,
     "metadata": {},
     "output_type": "execute_result"
    },
    {
     "data": {
      "image/png": "[encoded data removed]",
      "text/plain": [
       "<Figure size 432x288 with 1 Axes>"
      ]
     },
     "metadata": {
      "needs_background": "light"
     },
     "output_type": "display_data"
    }
   ],
   "source": [
    "#Performance measurement\n",
    "#charts of error distribution for Training set and Test set\n",
    "#training set\n",
    "train_e = train_y - model2.predict(train_X)\n",
    "fig, ax = plt.subplots()\n",
    "ax = train_e.hist()\n",
    "ax.set_xlabel('Training')"
   ]
  },
  {
   "cell_type": "code",
   "execution_count": 98,
   "id": "90ed918f",
   "metadata": {},
   "outputs": [
    {
     "data": {
      "text/plain": [
       "Text(0.5, 0, 'Validation')"
      ]
     },
     "execution_count": 98,
     "metadata": {},
     "output_type": "execute_result"
    },
    {
     "data": {
      "image/png": "[encoded data removed]",
      "text/plain": [
       "<Figure size 432x288 with 1 Axes>"
      ]
     },
     "metadata": {
      "needs_background": "light"
     },
     "output_type": "display_data"
    }
   ],
   "source": [
    "# validation set\n",
    "valid_e = valid_y - model2.predict(valid_X)\n",
    "fig, ax = plt.subplots()\n",
    "ax = valid_e.hist()\n",
    "ax.set_xlabel('Validation')"
   ]
  },
  {
   "cell_type": "markdown",
   "id": "5fc3f15a",
   "metadata": {},
   "source": [
    "Similar error distribution (highly distributed around 0) of training and valid sets "
   ]
  },
  {
   "cell_type": "code",
   "execution_count": 99,
   "id": "68593705",
   "metadata": {},
   "outputs": [],
   "source": [
    "#When evaluate performance of model 1 (16 predictors) and 2 (6 predictors)\n",
    "#Root Mean Squared Error (RMSE) : model 1 213188.0633 ~ model 2 217316.3443\n",
    "#Coefficient of determination (R^2): model1 0.69 ~ model2 0.68\n",
    "#But we do a good job on eliminating redundant variables (10) which avoids a waste of space in the source, \n",
    "#makes us easier to focus on those that important, and optimize the speed of model deployment"
   ]
  },
  {
   "cell_type": "markdown",
   "id": "c20a44fc",
   "metadata": {},
   "source": [
    "## KNN REGRESSOR MODEL BUILDING"
   ]
  },
  {
   "cell_type": "markdown",
   "id": "efc6e564",
   "metadata": {},
   "source": [
    "To build the KNN regressor model we will use the same predictors 'age', 'grade', 'lat', 'sqft_living', 'view', 'waterfront' on the same training and test datasets. Later we need to compare the performance of these 2 models"
   ]
  },
  {
   "cell_type": "code",
   "execution_count": 100,
   "id": "14b8b175",
   "metadata": {},
   "outputs": [],
   "source": [
    "#Construct model with k = 5\n",
    "model3 = KNeighborsRegressor(n_neighbors=5).fit(train_X, train_y)\n"
   ]
  },
  {
   "cell_type": "code",
   "execution_count": 101,
   "id": "4b59af62",
   "metadata": {},
   "outputs": [
    {
     "name": "stdout",
     "output_type": "stream",
     "text": [
      "\n",
      "Regression statistics\n",
      "\n",
      "                      Mean Error (ME) : 3323.2402\n",
      "       Root Mean Squared Error (RMSE) : 199191.0357\n",
      "            Mean Absolute Error (MAE) : 129627.5906\n",
      "          Mean Percentage Error (MPE) : -9.6163\n",
      "Mean Absolute Percentage Error (MAPE) : 26.5398\n"
     ]
    }
   ],
   "source": [
    "# Print performance measures (training data) (model 3)\n",
    "regressionSummary(train_y, model3.predict(train_X))"
   ]
  },
  {
   "cell_type": "code",
   "execution_count": 102,
   "id": "b0e4964b",
   "metadata": {},
   "outputs": [],
   "source": [
    "#Model evaluation (model 3)\n",
    "# Use predict() to make predictions on a new set\n",
    "y_pred3 = model3.predict(valid_X)"
   ]
  },
  {
   "cell_type": "code",
   "execution_count": 103,
   "id": "92a48d70",
   "metadata": {},
   "outputs": [
    {
     "name": "stdout",
     "output_type": "stream",
     "text": [
      "\n",
      "Regression statistics\n",
      "\n",
      "                      Mean Error (ME) : 4847.1000\n",
      "       Root Mean Squared Error (RMSE) : 268951.2651\n",
      "            Mean Absolute Error (MAE) : 168252.5602\n",
      "          Mean Percentage Error (MPE) : -12.4813\n",
      "Mean Absolute Percentage Error (MAPE) : 33.5910\n"
     ]
    }
   ],
   "source": [
    "#print performance measures (test data) (model 3)\n",
    "regressionSummary(valid_y, model3.predict(valid_X))"
   ]
  },
  {
   "cell_type": "code",
   "execution_count": 104,
   "id": "58e3a5cb",
   "metadata": {},
   "outputs": [],
   "source": [
    "#model 3\n",
    "#Training data Errors < Test data errors, model is not overfitting\n",
    "#The difference in errors between Training set and Test set are not significant => good"
   ]
  },
  {
   "cell_type": "code",
   "execution_count": 105,
   "id": "4c6c87c4",
   "metadata": {},
   "outputs": [
    {
     "name": "stdout",
     "output_type": "stream",
     "text": [
      "Coefficient of determination (R^2): 0.51\n"
     ]
    }
   ],
   "source": [
    "#Predictive accuracy measurement\n",
    "print('Coefficient of determination (R^2): %.2f'\n",
    "      % r2_score(valid_y, y_pred3))"
   ]
  },
  {
   "cell_type": "code",
   "execution_count": 106,
   "id": "cc526afa",
   "metadata": {},
   "outputs": [],
   "source": [
    "#Construct model with k = 10\n",
    "model4 = KNeighborsRegressor(n_neighbors=10).fit(train_X, train_y)"
   ]
  },
  {
   "cell_type": "code",
   "execution_count": 107,
   "id": "bc7d67f1",
   "metadata": {},
   "outputs": [
    {
     "name": "stdout",
     "output_type": "stream",
     "text": [
      "\n",
      "Regression statistics\n",
      "\n",
      "                      Mean Error (ME) : 4288.4722\n",
      "       Root Mean Squared Error (RMSE) : 215302.1385\n",
      "            Mean Absolute Error (MAE) : 141657.4659\n",
      "          Mean Percentage Error (MPE) : -11.3133\n",
      "Mean Absolute Percentage Error (MAPE) : 29.3816\n"
     ]
    }
   ],
   "source": [
    "# Print performance measures (training data) (model 4)\n",
    "regressionSummary(train_y, model4.predict(train_X))"
   ]
  },
  {
   "cell_type": "code",
   "execution_count": 108,
   "id": "329398ba",
   "metadata": {},
   "outputs": [],
   "source": [
    "#Model evaluation (model 4)\n",
    "# Use predict() to make predictions on a new set\n",
    "y_pred4 = model4.predict(valid_X)"
   ]
  },
  {
   "cell_type": "code",
   "execution_count": 109,
   "id": "8897aeec",
   "metadata": {},
   "outputs": [
    {
     "name": "stdout",
     "output_type": "stream",
     "text": [
      "\n",
      "Regression statistics\n",
      "\n",
      "                      Mean Error (ME) : 6121.9337\n",
      "       Root Mean Squared Error (RMSE) : 262065.4031\n",
      "            Mean Absolute Error (MAE) : 163261.3943\n",
      "          Mean Percentage Error (MPE) : -12.7821\n",
      "Mean Absolute Percentage Error (MAPE) : 32.9360\n"
     ]
    }
   ],
   "source": [
    "#print performance measures (test data) (model 4)\n",
    "regressionSummary(valid_y, model4.predict(valid_X))"
   ]
  },
  {
   "cell_type": "code",
   "execution_count": 110,
   "id": "9e14d56c",
   "metadata": {},
   "outputs": [],
   "source": [
    "#model 4\n",
    "#Training data Errors < Test data errors, model is not overfitting\n",
    "#The difference in errors between Training set and Test set are not significant => good"
   ]
  },
  {
   "cell_type": "code",
   "execution_count": 112,
   "id": "51b46ed2",
   "metadata": {},
   "outputs": [
    {
     "name": "stdout",
     "output_type": "stream",
     "text": [
      "Coefficient of determination (R^2): 0.54\n"
     ]
    }
   ],
   "source": [
    "#Predictive accuracy measurement\n",
    "print('Coefficient of determination (R^2): %.2f'\n",
    "      % r2_score(valid_y, y_pred4))"
   ]
  },
  {
   "cell_type": "code",
   "execution_count": 113,
   "id": "d987111a",
   "metadata": {},
   "outputs": [],
   "source": [
    "#Compare model 3 and 4\n",
    "#Coefficient of determination: model4 0.54 > model3 0.51\n",
    "#Root Mean Squared Error (RMSE): model4 262065.4031 < model3 268951.2651\n",
    "#=> choose model 4 with k=10 which has better prediction accuracy "
   ]
  },
  {
   "cell_type": "code",
   "execution_count": 115,
   "id": "f634eb66",
   "metadata": {},
   "outputs": [
    {
     "name": "stdout",
     "output_type": "stream",
     "text": [
      "       Predicted Values  Actual Values  Residuals\n",
      "15544          602605.0       459000.0  -143605.0\n",
      "17454          397152.0       445000.0    47848.0\n"
     ]
    }
   ],
   "source": [
    "#Use regrssion model to predict the prices of the two houses\n",
    "result = pd.DataFrame({'Predicted Values': y_pred4, 'Actual Values': valid_y, 'Residuals': valid_y - y_pred4})\n",
    "print(result.head(2))"
   ]
  },
  {
   "cell_type": "markdown",
   "id": "7dcec0bb",
   "metadata": {},
   "source": [
    "## Compare the prediction performance of multiple linear regression model and KNN regressor model "
   ]
  },
  {
   "cell_type": "markdown",
   "id": "39537d6e",
   "metadata": {},
   "source": [
    "* Coefficient of determination: model4 0.54 < model2 0.68\n",
    "* Root Mean Squared Error (RMSE): model4 262065.4031 > model2 217316.3443\n",
    "* Therefore, we choose model 2 which has better prediction accuracy "
   ]
  },
  {
   "cell_type": "markdown",
   "id": "66db5ca6",
   "metadata": {},
   "source": [
    "## Enhancing model performance by feature scaling"
   ]
  },
  {
   "cell_type": "code",
   "execution_count": 116,
   "id": "480e0e68",
   "metadata": {},
   "outputs": [
    {
     "data": {
      "text/html": [
       "<div>\n",
       "<style scoped>\n",
       "    .dataframe tbody tr th:only-of-type {\n",
       "        vertical-align: middle;\n",
       "    }\n",
       "\n",
       "    .dataframe tbody tr th {\n",
       "        vertical-align: top;\n",
       "    }\n",
       "\n",
       "    .dataframe thead th {\n",
       "        text-align: right;\n",
       "    }\n",
       "</style>\n",
       "<table border=\"1\" class=\"dataframe\">\n",
       "  <thead>\n",
       "    <tr style=\"text-align: right;\">\n",
       "      <th></th>\n",
       "      <th>age</th>\n",
       "      <th>grade</th>\n",
       "      <th>lat</th>\n",
       "      <th>sqft_living</th>\n",
       "      <th>view</th>\n",
       "      <th>waterfront</th>\n",
       "    </tr>\n",
       "  </thead>\n",
       "  <tbody>\n",
       "    <tr>\n",
       "      <th>count</th>\n",
       "      <td>12967.000000</td>\n",
       "      <td>12967.000000</td>\n",
       "      <td>12967.000000</td>\n",
       "      <td>12967.000000</td>\n",
       "      <td>12967.000000</td>\n",
       "      <td>12967.000000</td>\n",
       "    </tr>\n",
       "    <tr>\n",
       "      <th>mean</th>\n",
       "      <td>51.032776</td>\n",
       "      <td>7.654430</td>\n",
       "      <td>47.559457</td>\n",
       "      <td>2074.182617</td>\n",
       "      <td>0.230585</td>\n",
       "      <td>0.007635</td>\n",
       "    </tr>\n",
       "    <tr>\n",
       "      <th>std</th>\n",
       "      <td>29.531719</td>\n",
       "      <td>1.167273</td>\n",
       "      <td>0.139012</td>\n",
       "      <td>901.073501</td>\n",
       "      <td>0.758649</td>\n",
       "      <td>0.087046</td>\n",
       "    </tr>\n",
       "    <tr>\n",
       "      <th>min</th>\n",
       "      <td>7.000000</td>\n",
       "      <td>3.000000</td>\n",
       "      <td>47.155900</td>\n",
       "      <td>380.000000</td>\n",
       "      <td>0.000000</td>\n",
       "      <td>0.000000</td>\n",
       "    </tr>\n",
       "    <tr>\n",
       "      <th>25%</th>\n",
       "      <td>25.000000</td>\n",
       "      <td>7.000000</td>\n",
       "      <td>47.469400</td>\n",
       "      <td>1420.000000</td>\n",
       "      <td>0.000000</td>\n",
       "      <td>0.000000</td>\n",
       "    </tr>\n",
       "    <tr>\n",
       "      <th>50%</th>\n",
       "      <td>47.000000</td>\n",
       "      <td>7.000000</td>\n",
       "      <td>47.571400</td>\n",
       "      <td>1910.000000</td>\n",
       "      <td>0.000000</td>\n",
       "      <td>0.000000</td>\n",
       "    </tr>\n",
       "    <tr>\n",
       "      <th>75%</th>\n",
       "      <td>71.000000</td>\n",
       "      <td>8.000000</td>\n",
       "      <td>47.677200</td>\n",
       "      <td>2540.000000</td>\n",
       "      <td>0.000000</td>\n",
       "      <td>0.000000</td>\n",
       "    </tr>\n",
       "    <tr>\n",
       "      <th>max</th>\n",
       "      <td>122.000000</td>\n",
       "      <td>13.000000</td>\n",
       "      <td>47.777600</td>\n",
       "      <td>9640.000000</td>\n",
       "      <td>4.000000</td>\n",
       "      <td>1.000000</td>\n",
       "    </tr>\n",
       "  </tbody>\n",
       "</table>\n",
       "</div>"
      ],
      "text/plain": [
       "                age         grade           lat   sqft_living          view  \\\n",
       "count  12967.000000  12967.000000  12967.000000  12967.000000  12967.000000   \n",
       "mean      51.032776      7.654430     47.559457   2074.182617      0.230585   \n",
       "std       29.531719      1.167273      0.139012    901.073501      0.758649   \n",
       "min        7.000000      3.000000     47.155900    380.000000      0.000000   \n",
       "25%       25.000000      7.000000     47.469400   1420.000000      0.000000   \n",
       "50%       47.000000      7.000000     47.571400   1910.000000      0.000000   \n",
       "75%       71.000000      8.000000     47.677200   2540.000000      0.000000   \n",
       "max      122.000000     13.000000     47.777600   9640.000000      4.000000   \n",
       "\n",
       "         waterfront  \n",
       "count  12967.000000  \n",
       "mean       0.007635  \n",
       "std        0.087046  \n",
       "min        0.000000  \n",
       "25%        0.000000  \n",
       "50%        0.000000  \n",
       "75%        0.000000  \n",
       "max        1.000000  "
      ]
     },
     "execution_count": 116,
     "metadata": {},
     "output_type": "execute_result"
    }
   ],
   "source": [
    "#Checking data range of 6 predictors\n",
    "train_X.describe()"
   ]
  },
  {
   "cell_type": "markdown",
   "id": "b505b6cf",
   "metadata": {},
   "source": [
    "Features have different scales."
   ]
  },
  {
   "cell_type": "code",
   "execution_count": 117,
   "id": "0cf7429e",
   "metadata": {},
   "outputs": [
    {
     "data": {
      "image/png": "[encoded data removed]",
      "text/plain": [
       "<Figure size 360x360 with 1 Axes>"
      ]
     },
     "metadata": {
      "needs_background": "light"
     },
     "output_type": "display_data"
    }
   ],
   "source": [
    "#Plotting sqft_living distribution\n",
    "dis_sqft_living = sns.displot(train_X, x=\"sqft_living\")"
   ]
  },
  {
   "cell_type": "code",
   "execution_count": 118,
   "id": "f291d6e2",
   "metadata": {},
   "outputs": [
    {
     "data": {
      "image/png": "[encoded data removed]",
      "text/plain": [
       "<Figure size 360x360 with 1 Axes>"
      ]
     },
     "metadata": {
      "needs_background": "light"
     },
     "output_type": "display_data"
    }
   ],
   "source": [
    "#Plotting price distribution\n",
    "dis_price = sns.displot(train_y)"
   ]
  },
  {
   "cell_type": "markdown",
   "id": "b45971b8",
   "metadata": {},
   "source": [
    "It is better to perform data standardization because the dataset contains so many outliers."
   ]
  },
  {
   "cell_type": "code",
   "execution_count": 119,
   "id": "ad321e96",
   "metadata": {},
   "outputs": [],
   "source": [
    "#Conducting data standardization\n",
    "scaler = StandardScaler()\n",
    "stan_train_X = pd.DataFrame(scaler.fit_transform(train_X),index=train_X.index,columns=train_X.columns)\n",
    "stan_valid_X = pd.DataFrame(scaler.fit_transform(valid_X),index=valid_X.index,columns=valid_X.columns)"
   ]
  },
  {
   "cell_type": "code",
   "execution_count": 120,
   "id": "8ee9e7c1",
   "metadata": {},
   "outputs": [
    {
     "data": {
      "text/html": [
       "<div>\n",
       "<style scoped>\n",
       "    .dataframe tbody tr th:only-of-type {\n",
       "        vertical-align: middle;\n",
       "    }\n",
       "\n",
       "    .dataframe tbody tr th {\n",
       "        vertical-align: top;\n",
       "    }\n",
       "\n",
       "    .dataframe thead th {\n",
       "        text-align: right;\n",
       "    }\n",
       "</style>\n",
       "<table border=\"1\" class=\"dataframe\">\n",
       "  <thead>\n",
       "    <tr style=\"text-align: right;\">\n",
       "      <th></th>\n",
       "      <th>age</th>\n",
       "      <th>grade</th>\n",
       "      <th>lat</th>\n",
       "      <th>sqft_living</th>\n",
       "      <th>view</th>\n",
       "      <th>waterfront</th>\n",
       "    </tr>\n",
       "  </thead>\n",
       "  <tbody>\n",
       "    <tr>\n",
       "      <th>count</th>\n",
       "      <td>1.296700e+04</td>\n",
       "      <td>1.296700e+04</td>\n",
       "      <td>1.296700e+04</td>\n",
       "      <td>1.296700e+04</td>\n",
       "      <td>1.296700e+04</td>\n",
       "      <td>1.296700e+04</td>\n",
       "    </tr>\n",
       "    <tr>\n",
       "      <th>mean</th>\n",
       "      <td>1.010734e-16</td>\n",
       "      <td>-2.182945e-16</td>\n",
       "      <td>1.381198e-14</td>\n",
       "      <td>1.614434e-16</td>\n",
       "      <td>2.485608e-16</td>\n",
       "      <td>3.977072e-16</td>\n",
       "    </tr>\n",
       "    <tr>\n",
       "      <th>std</th>\n",
       "      <td>1.000039e+00</td>\n",
       "      <td>1.000039e+00</td>\n",
       "      <td>1.000039e+00</td>\n",
       "      <td>1.000039e+00</td>\n",
       "      <td>1.000039e+00</td>\n",
       "      <td>1.000039e+00</td>\n",
       "    </tr>\n",
       "    <tr>\n",
       "      <th>min</th>\n",
       "      <td>-1.491091e+00</td>\n",
       "      <td>-3.987595e+00</td>\n",
       "      <td>-2.903156e+00</td>\n",
       "      <td>-1.880255e+00</td>\n",
       "      <td>-3.039540e-01</td>\n",
       "      <td>-8.771262e-02</td>\n",
       "    </tr>\n",
       "    <tr>\n",
       "      <th>25%</th>\n",
       "      <td>-8.815531e-01</td>\n",
       "      <td>-5.606708e-01</td>\n",
       "      <td>-6.478650e-01</td>\n",
       "      <td>-7.260316e-01</td>\n",
       "      <td>-3.039540e-01</td>\n",
       "      <td>-8.771262e-02</td>\n",
       "    </tr>\n",
       "    <tr>\n",
       "      <th>50%</th>\n",
       "      <td>-1.365627e-01</td>\n",
       "      <td>-5.606708e-01</td>\n",
       "      <td>8.591383e-02</td>\n",
       "      <td>-1.822148e-01</td>\n",
       "      <td>-3.039540e-01</td>\n",
       "      <td>-8.771262e-02</td>\n",
       "    </tr>\n",
       "    <tr>\n",
       "      <th>75%</th>\n",
       "      <td>6.761542e-01</td>\n",
       "      <td>2.960601e-01</td>\n",
       "      <td>8.470295e-01</td>\n",
       "      <td>5.169782e-01</td>\n",
       "      <td>-3.039540e-01</td>\n",
       "      <td>-8.771262e-02</td>\n",
       "    </tr>\n",
       "    <tr>\n",
       "      <th>max</th>\n",
       "      <td>2.403177e+00</td>\n",
       "      <td>4.579715e+00</td>\n",
       "      <td>1.569298e+00</td>\n",
       "      <td>8.396772e+00</td>\n",
       "      <td>4.968783e+00</td>\n",
       "      <td>1.140087e+01</td>\n",
       "    </tr>\n",
       "  </tbody>\n",
       "</table>\n",
       "</div>"
      ],
      "text/plain": [
       "                age         grade           lat   sqft_living          view  \\\n",
       "count  1.296700e+04  1.296700e+04  1.296700e+04  1.296700e+04  1.296700e+04   \n",
       "mean   1.010734e-16 -2.182945e-16  1.381198e-14  1.614434e-16  2.485608e-16   \n",
       "std    1.000039e+00  1.000039e+00  1.000039e+00  1.000039e+00  1.000039e+00   \n",
       "min   -1.491091e+00 -3.987595e+00 -2.903156e+00 -1.880255e+00 -3.039540e-01   \n",
       "25%   -8.815531e-01 -5.606708e-01 -6.478650e-01 -7.260316e-01 -3.039540e-01   \n",
       "50%   -1.365627e-01 -5.606708e-01  8.591383e-02 -1.822148e-01 -3.039540e-01   \n",
       "75%    6.761542e-01  2.960601e-01  8.470295e-01  5.169782e-01 -3.039540e-01   \n",
       "max    2.403177e+00  4.579715e+00  1.569298e+00  8.396772e+00  4.968783e+00   \n",
       "\n",
       "         waterfront  \n",
       "count  1.296700e+04  \n",
       "mean   3.977072e-16  \n",
       "std    1.000039e+00  \n",
       "min   -8.771262e-02  \n",
       "25%   -8.771262e-02  \n",
       "50%   -8.771262e-02  \n",
       "75%   -8.771262e-02  \n",
       "max    1.140087e+01  "
      ]
     },
     "execution_count": 120,
     "metadata": {},
     "output_type": "execute_result"
    }
   ],
   "source": [
    "#Checking the data range of standardized data\n",
    "stan_train_X.describe()"
   ]
  },
  {
   "cell_type": "code",
   "execution_count": 121,
   "id": "e448058d",
   "metadata": {},
   "outputs": [],
   "source": [
    "#Building multiple linear regression model using standardized data\n",
    "model5 = LinearRegression().fit(stan_train_X, train_y)"
   ]
  },
  {
   "cell_type": "code",
   "execution_count": 122,
   "id": "abc3a954",
   "metadata": {},
   "outputs": [
    {
     "name": "stdout",
     "output_type": "stream",
     "text": [
      "\n",
      "Regression statistics\n",
      "\n",
      "                      Mean Error (ME) : 0.0000\n",
      "       Root Mean Squared Error (RMSE) : 199015.2076\n",
      "            Mean Absolute Error (MAE) : 126329.9038\n",
      "          Mean Percentage Error (MPE) : -4.6252\n",
      "Mean Absolute Percentage Error (MAPE) : 25.7036\n"
     ]
    }
   ],
   "source": [
    "#Printing model performance measurement (on training data) model5\n",
    "regressionSummary(train_y, model5.predict(stan_train_X))"
   ]
  },
  {
   "cell_type": "code",
   "execution_count": 123,
   "id": "29ca2459",
   "metadata": {},
   "outputs": [],
   "source": [
    "#Using predict() function to make predictions on test set model5\n",
    "y_pred5 = model5.predict(stan_valid_X)"
   ]
  },
  {
   "cell_type": "code",
   "execution_count": 124,
   "id": "1d291098",
   "metadata": {},
   "outputs": [
    {
     "name": "stdout",
     "output_type": "stream",
     "text": [
      "\n",
      "Regression statistics\n",
      "\n",
      "                      Mean Error (ME) : 7008.3702\n",
      "       Root Mean Squared Error (RMSE) : 218147.3957\n",
      "            Mean Absolute Error (MAE) : 128455.7033\n",
      "          Mean Percentage Error (MPE) : -4.0827\n",
      "Mean Absolute Percentage Error (MAPE) : 25.3887\n"
     ]
    }
   ],
   "source": [
    "#Printing model performance measurement (on test data) model5\n",
    "regressionSummary(valid_y, model5.predict(stan_valid_X))\n",
    "\n",
    "#Training data Errors < Test data errors, model is not overfitting\n",
    "#The difference in errors between Training set and Test set are not significant => good"
   ]
  },
  {
   "cell_type": "code",
   "execution_count": 125,
   "id": "82a070be",
   "metadata": {},
   "outputs": [
    {
     "name": "stdout",
     "output_type": "stream",
     "text": [
      "Coefficient of determination (R^2): 0.68\n"
     ]
    }
   ],
   "source": [
    "#Printing predictive accuracy measurement model5\n",
    "print('Coefficient of determination (R^2): %.2f'\n",
    "      % r2_score(valid_y, y_pred5))"
   ]
  },
  {
   "cell_type": "code",
   "execution_count": 139,
   "id": "24f9cbb5",
   "metadata": {},
   "outputs": [],
   "source": [
    "#Constructing model with k = 5 using standardized data\n",
    "model6 = KNeighborsRegressor(n_neighbors=5).fit(stan_train_X, train_y)"
   ]
  },
  {
   "cell_type": "code",
   "execution_count": 140,
   "id": "3e06689b",
   "metadata": {},
   "outputs": [
    {
     "name": "stdout",
     "output_type": "stream",
     "text": [
      "\n",
      "Regression statistics\n",
      "\n",
      "                      Mean Error (ME) : 1099.6975\n",
      "       Root Mean Squared Error (RMSE) : 132121.0972\n",
      "            Mean Absolute Error (MAE) : 74923.0416\n",
      "          Mean Percentage Error (MPE) : -3.3525\n",
      "Mean Absolute Percentage Error (MAPE) : 13.8030\n"
     ]
    }
   ],
   "source": [
    "#Printing model performance measurement (on training data) model6\n",
    "regressionSummary(train_y, model6.predict(stan_train_X))"
   ]
  },
  {
   "cell_type": "code",
   "execution_count": 141,
   "id": "cdf23a00",
   "metadata": {},
   "outputs": [],
   "source": [
    "#Using predict() function to make predictions on test set model6\n",
    "y_pred6 = model6.predict(stan_valid_X)"
   ]
  },
  {
   "cell_type": "code",
   "execution_count": 142,
   "id": "3d62d208",
   "metadata": {},
   "outputs": [
    {
     "name": "stdout",
     "output_type": "stream",
     "text": [
      "\n",
      "Regression statistics\n",
      "\n",
      "                      Mean Error (ME) : 6776.7701\n",
      "       Root Mean Squared Error (RMSE) : 177905.6467\n",
      "            Mean Absolute Error (MAE) : 94296.5281\n",
      "          Mean Percentage Error (MPE) : -3.8522\n",
      "Mean Absolute Percentage Error (MAPE) : 16.9010\n"
     ]
    }
   ],
   "source": [
    "#Printing model performance measurement (on test data) model6\n",
    "regressionSummary(valid_y, model6.predict(stan_valid_X))"
   ]
  },
  {
   "cell_type": "code",
   "execution_count": 143,
   "id": "13567281",
   "metadata": {},
   "outputs": [
    {
     "name": "stdout",
     "output_type": "stream",
     "text": [
      "Coefficient of determination (R^2): 0.79\n"
     ]
    }
   ],
   "source": [
    "#Printing predictive accuracy measurement model6\n",
    "print('Coefficient of determination (R^2): %.2f'\n",
    "      % r2_score(valid_y, y_pred6))"
   ]
  },
  {
   "cell_type": "code",
   "execution_count": 144,
   "id": "ac622303",
   "metadata": {},
   "outputs": [],
   "source": [
    "#Constructing model with k = 10 using standardized data\n",
    "model7 = KNeighborsRegressor(n_neighbors=10).fit(stan_train_X, train_y)"
   ]
  },
  {
   "cell_type": "code",
   "execution_count": 145,
   "id": "a35758aa",
   "metadata": {},
   "outputs": [
    {
     "name": "stdout",
     "output_type": "stream",
     "text": [
      "\n",
      "Regression statistics\n",
      "\n",
      "                      Mean Error (ME) : 542.5488\n",
      "       Root Mean Squared Error (RMSE) : 144952.7247\n",
      "            Mean Absolute Error (MAE) : 81148.3905\n",
      "          Mean Percentage Error (MPE) : -4.2158\n",
      "Mean Absolute Percentage Error (MAPE) : 15.0430\n"
     ]
    }
   ],
   "source": [
    "#Printing model performance measurement (on training data) model6\n",
    "regressionSummary(train_y, model7.predict(stan_train_X))"
   ]
  },
  {
   "cell_type": "code",
   "execution_count": 146,
   "id": "b44e6a5f",
   "metadata": {},
   "outputs": [],
   "source": [
    "#Using predict() function to make predictions on test set model6\n",
    "y_pred7 = model7.predict(stan_valid_X)"
   ]
  },
  {
   "cell_type": "code",
   "execution_count": 147,
   "id": "bb3a5fce",
   "metadata": {},
   "outputs": [
    {
     "name": "stdout",
     "output_type": "stream",
     "text": [
      "\n",
      "Regression statistics\n",
      "\n",
      "                      Mean Error (ME) : 9212.0443\n",
      "       Root Mean Squared Error (RMSE) : 178478.9667\n",
      "            Mean Absolute Error (MAE) : 91851.2790\n",
      "          Mean Percentage Error (MPE) : -3.8503\n",
      "Mean Absolute Percentage Error (MAPE) : 16.4034\n"
     ]
    }
   ],
   "source": [
    "#Printing model performance measurement (on test data) model6\n",
    "regressionSummary(valid_y, model7.predict(stan_valid_X))"
   ]
  },
  {
   "cell_type": "code",
   "execution_count": 148,
   "id": "66f9a4a9",
   "metadata": {},
   "outputs": [
    {
     "name": "stdout",
     "output_type": "stream",
     "text": [
      "Coefficient of determination (R^2): 0.78\n"
     ]
    }
   ],
   "source": [
    "#Printing predictive accuracy measurement model6\n",
    "print('Coefficient of determination (R^2): %.2f'\n",
    "      % r2_score(valid_y, y_pred7))"
   ]
  },
  {
   "cell_type": "markdown",
   "id": "730dddbf",
   "metadata": {},
   "source": [
    "## Conclusion"
   ]
  },
  {
   "cell_type": "markdown",
   "id": "09dcfd71",
   "metadata": {},
   "source": [
    "* Our optimal model is model6 which was built by using KNN regressor algorithm on standardized data with k = 5\n",
    "* Model accuracy Coefficient of determination (R^2): 0.79"
   ]
  },
  {
   "cell_type": "code",
   "execution_count": null,
   "id": "e9f159f8",
   "metadata": {},
   "outputs": [],
   "source": []
  }
 ],
 "metadata": {
  "kernelspec": {
   "display_name": "Python 3 (ipykernel)",
   "language": "python",
   "name": "python3"
  },
  "language_info": {
   "codemirror_mode": {
    "name": "ipython",
    "version": 3
   },
   "file_extension": ".py",
   "mimetype": "text/x-python",
   "name": "python",
   "nbconvert_exporter": "python",
   "pygments_lexer": "ipython3",
   "version": "3.9.12"
  }
 },
 "nbformat": 4,
 "nbformat_minor": 5
}
